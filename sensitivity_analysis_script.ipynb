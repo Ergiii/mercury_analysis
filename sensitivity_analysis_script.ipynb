{
 "cells": [
  {
   "cell_type": "markdown",
   "metadata": {},
   "source": [
    "# Library Imports"
   ]
  },
  {
   "cell_type": "code",
   "execution_count": 1,
   "metadata": {},
   "outputs": [],
   "source": [
    "import pandas as pd\n",
    "import seaborn as sns\n",
    "import matplotlib, pylab as plt\n",
    "import numpy as np\n",
    "from ast import literal_eval\n",
    "import statsmodels.api as sm\n",
    "from sklearn import preprocessing\n",
    "from mpl_toolkits.mplot3d import Axes3D"
   ]
  },
  {
   "cell_type": "markdown",
   "metadata": {},
   "source": [
    "# Data import\n",
    "Firstly, import the csv. 'literal_eval' is used to read the 'site_dict' and 'trader_dict' (which contain information for each site and trader) as lists instead of strings.\n",
    "\n",
    "'site_dict' is a list of each site per run. It contains lists with two items per list, the site number and another list containing 5 items, a boolean (which is True if the site is a production site and False if it's not), the volume of product A, volume of product B, volume of product C, volume of product D.\n",
    "\n",
    "'trader_dict' is a list of each trader per run. It contains a list with two items per list, the trader number and another list containing 3 items, the site number the trader is located on, its closeness centrality and its betweenness centrality.\n",
    "\n",
    "Both 'dicts' are not actual Python dictionaries yet, but lists. They are converted to dicts when needed. Both 'dicts' are not displayed here, because it messes up the row sizes."
   ]
  },
  {
   "cell_type": "code",
   "execution_count": 2,
   "metadata": {
    "scrolled": true
   },
   "outputs": [
    {
     "name": "stdout",
     "output_type": "stream",
     "text": [
      "Number of runs stuck on average degree 171\n"
     ]
    },
    {
     "data": {
      "text/html": [
       "<div>\n",
       "<style scoped>\n",
       "    .dataframe tbody tr th:only-of-type {\n",
       "        vertical-align: middle;\n",
       "    }\n",
       "\n",
       "    .dataframe tbody tr th {\n",
       "        vertical-align: top;\n",
       "    }\n",
       "\n",
       "    .dataframe thead th {\n",
       "        text-align: right;\n",
       "    }\n",
       "</style>\n",
       "<table border=\"1\" class=\"dataframe\">\n",
       "  <thead>\n",
       "    <tr style=\"text-align: right;\">\n",
       "      <th></th>\n",
       "      <th>random_seed</th>\n",
       "      <th>ticks</th>\n",
       "      <th>equal_traders_production_site</th>\n",
       "      <th>traders_distribution</th>\n",
       "      <th>network_structure</th>\n",
       "      <th>proportion_inter_site_links</th>\n",
       "      <th>proportion_intra_site_links</th>\n",
       "      <th>proportion_mutual_neighbors</th>\n",
       "      <th>traders_production_site</th>\n",
       "      <th>one_production_site_dominance</th>\n",
       "      <th>...</th>\n",
       "      <th>local_knowledge</th>\n",
       "      <th>maximum_demand</th>\n",
       "      <th>circle_link_counter</th>\n",
       "      <th>inter_link_counter</th>\n",
       "      <th>intra_link_counter</th>\n",
       "      <th>mutual_link_counter</th>\n",
       "      <th>connect_components_link_counter</th>\n",
       "      <th>average_degree</th>\n",
       "      <th>clustering_coefficient</th>\n",
       "      <th>average_path_length</th>\n",
       "    </tr>\n",
       "  </thead>\n",
       "  <tbody>\n",
       "    <tr>\n",
       "      <th>0</th>\n",
       "      <td>1</td>\n",
       "      <td>5000</td>\n",
       "      <td>False</td>\n",
       "      <td>uniform</td>\n",
       "      <td>hypothesis</td>\n",
       "      <td>0.0</td>\n",
       "      <td>0.001</td>\n",
       "      <td>2</td>\n",
       "      <td>0</td>\n",
       "      <td>10</td>\n",
       "      <td>...</td>\n",
       "      <td>0.1</td>\n",
       "      <td>1</td>\n",
       "      <td>100</td>\n",
       "      <td>0</td>\n",
       "      <td>1052</td>\n",
       "      <td>1107</td>\n",
       "      <td>19</td>\n",
       "      <td>4.556</td>\n",
       "      <td>0.610343</td>\n",
       "      <td>90.26507</td>\n",
       "    </tr>\n",
       "    <tr>\n",
       "      <th>1</th>\n",
       "      <td>1</td>\n",
       "      <td>5000</td>\n",
       "      <td>False</td>\n",
       "      <td>uniform</td>\n",
       "      <td>hypothesis</td>\n",
       "      <td>0.0</td>\n",
       "      <td>0.001</td>\n",
       "      <td>2</td>\n",
       "      <td>0</td>\n",
       "      <td>0</td>\n",
       "      <td>...</td>\n",
       "      <td>0.1</td>\n",
       "      <td>1</td>\n",
       "      <td>100</td>\n",
       "      <td>0</td>\n",
       "      <td>1083</td>\n",
       "      <td>1070</td>\n",
       "      <td>10</td>\n",
       "      <td>4.526</td>\n",
       "      <td>0.622357</td>\n",
       "      <td>97.69987</td>\n",
       "    </tr>\n",
       "    <tr>\n",
       "      <th>2</th>\n",
       "      <td>1</td>\n",
       "      <td>5000</td>\n",
       "      <td>False</td>\n",
       "      <td>uniform</td>\n",
       "      <td>hypothesis</td>\n",
       "      <td>0.0</td>\n",
       "      <td>0.001</td>\n",
       "      <td>2</td>\n",
       "      <td>0</td>\n",
       "      <td>0</td>\n",
       "      <td>...</td>\n",
       "      <td>0.5</td>\n",
       "      <td>1</td>\n",
       "      <td>100</td>\n",
       "      <td>0</td>\n",
       "      <td>1083</td>\n",
       "      <td>1070</td>\n",
       "      <td>10</td>\n",
       "      <td>4.526</td>\n",
       "      <td>0.622357</td>\n",
       "      <td>97.69987</td>\n",
       "    </tr>\n",
       "    <tr>\n",
       "      <th>3</th>\n",
       "      <td>1</td>\n",
       "      <td>5000</td>\n",
       "      <td>False</td>\n",
       "      <td>uniform</td>\n",
       "      <td>hypothesis</td>\n",
       "      <td>0.0</td>\n",
       "      <td>0.001</td>\n",
       "      <td>2</td>\n",
       "      <td>0</td>\n",
       "      <td>0</td>\n",
       "      <td>...</td>\n",
       "      <td>1.0</td>\n",
       "      <td>1</td>\n",
       "      <td>100</td>\n",
       "      <td>0</td>\n",
       "      <td>1083</td>\n",
       "      <td>1070</td>\n",
       "      <td>10</td>\n",
       "      <td>4.526</td>\n",
       "      <td>0.622357</td>\n",
       "      <td>97.69987</td>\n",
       "    </tr>\n",
       "    <tr>\n",
       "      <th>4</th>\n",
       "      <td>1</td>\n",
       "      <td>5000</td>\n",
       "      <td>False</td>\n",
       "      <td>uniform</td>\n",
       "      <td>hypothesis</td>\n",
       "      <td>0.0</td>\n",
       "      <td>0.001</td>\n",
       "      <td>2</td>\n",
       "      <td>0</td>\n",
       "      <td>30</td>\n",
       "      <td>...</td>\n",
       "      <td>0.5</td>\n",
       "      <td>1</td>\n",
       "      <td>100</td>\n",
       "      <td>0</td>\n",
       "      <td>1065</td>\n",
       "      <td>1090</td>\n",
       "      <td>7</td>\n",
       "      <td>4.524</td>\n",
       "      <td>0.619397</td>\n",
       "      <td>71.27465</td>\n",
       "    </tr>\n",
       "    <tr>\n",
       "      <th>5</th>\n",
       "      <td>1</td>\n",
       "      <td>5000</td>\n",
       "      <td>False</td>\n",
       "      <td>uniform</td>\n",
       "      <td>hypothesis</td>\n",
       "      <td>0.0</td>\n",
       "      <td>0.001</td>\n",
       "      <td>2</td>\n",
       "      <td>0</td>\n",
       "      <td>10</td>\n",
       "      <td>...</td>\n",
       "      <td>0.5</td>\n",
       "      <td>1</td>\n",
       "      <td>100</td>\n",
       "      <td>0</td>\n",
       "      <td>1052</td>\n",
       "      <td>1107</td>\n",
       "      <td>19</td>\n",
       "      <td>4.556</td>\n",
       "      <td>0.610343</td>\n",
       "      <td>90.26507</td>\n",
       "    </tr>\n",
       "    <tr>\n",
       "      <th>6</th>\n",
       "      <td>1</td>\n",
       "      <td>5000</td>\n",
       "      <td>False</td>\n",
       "      <td>uniform</td>\n",
       "      <td>hypothesis</td>\n",
       "      <td>0.0</td>\n",
       "      <td>0.001</td>\n",
       "      <td>2</td>\n",
       "      <td>0</td>\n",
       "      <td>10</td>\n",
       "      <td>...</td>\n",
       "      <td>1.0</td>\n",
       "      <td>1</td>\n",
       "      <td>100</td>\n",
       "      <td>0</td>\n",
       "      <td>1052</td>\n",
       "      <td>1107</td>\n",
       "      <td>19</td>\n",
       "      <td>4.556</td>\n",
       "      <td>0.610343</td>\n",
       "      <td>90.26507</td>\n",
       "    </tr>\n",
       "    <tr>\n",
       "      <th>7</th>\n",
       "      <td>1</td>\n",
       "      <td>5000</td>\n",
       "      <td>False</td>\n",
       "      <td>uniform</td>\n",
       "      <td>hypothesis</td>\n",
       "      <td>0.0</td>\n",
       "      <td>0.001</td>\n",
       "      <td>2</td>\n",
       "      <td>0</td>\n",
       "      <td>30</td>\n",
       "      <td>...</td>\n",
       "      <td>0.1</td>\n",
       "      <td>1</td>\n",
       "      <td>100</td>\n",
       "      <td>0</td>\n",
       "      <td>1065</td>\n",
       "      <td>1090</td>\n",
       "      <td>7</td>\n",
       "      <td>4.524</td>\n",
       "      <td>0.619397</td>\n",
       "      <td>71.27465</td>\n",
       "    </tr>\n",
       "    <tr>\n",
       "      <th>8</th>\n",
       "      <td>1</td>\n",
       "      <td>5000</td>\n",
       "      <td>False</td>\n",
       "      <td>uniform</td>\n",
       "      <td>hypothesis</td>\n",
       "      <td>0.0</td>\n",
       "      <td>0.001</td>\n",
       "      <td>2</td>\n",
       "      <td>0</td>\n",
       "      <td>50</td>\n",
       "      <td>...</td>\n",
       "      <td>1.0</td>\n",
       "      <td>1</td>\n",
       "      <td>100</td>\n",
       "      <td>0</td>\n",
       "      <td>1075</td>\n",
       "      <td>1077</td>\n",
       "      <td>8</td>\n",
       "      <td>4.520</td>\n",
       "      <td>0.618552</td>\n",
       "      <td>69.61648</td>\n",
       "    </tr>\n",
       "    <tr>\n",
       "      <th>9</th>\n",
       "      <td>1</td>\n",
       "      <td>5000</td>\n",
       "      <td>False</td>\n",
       "      <td>uniform</td>\n",
       "      <td>hypothesis</td>\n",
       "      <td>0.0</td>\n",
       "      <td>0.001</td>\n",
       "      <td>2</td>\n",
       "      <td>0</td>\n",
       "      <td>30</td>\n",
       "      <td>...</td>\n",
       "      <td>1.0</td>\n",
       "      <td>1</td>\n",
       "      <td>100</td>\n",
       "      <td>0</td>\n",
       "      <td>1065</td>\n",
       "      <td>1090</td>\n",
       "      <td>7</td>\n",
       "      <td>4.524</td>\n",
       "      <td>0.619397</td>\n",
       "      <td>71.27465</td>\n",
       "    </tr>\n",
       "  </tbody>\n",
       "</table>\n",
       "<p>10 rows × 21 columns</p>\n",
       "</div>"
      ],
      "text/plain": [
       "   random_seed  ticks  equal_traders_production_site traders_distribution  \\\n",
       "0            1   5000                          False              uniform   \n",
       "1            1   5000                          False              uniform   \n",
       "2            1   5000                          False              uniform   \n",
       "3            1   5000                          False              uniform   \n",
       "4            1   5000                          False              uniform   \n",
       "5            1   5000                          False              uniform   \n",
       "6            1   5000                          False              uniform   \n",
       "7            1   5000                          False              uniform   \n",
       "8            1   5000                          False              uniform   \n",
       "9            1   5000                          False              uniform   \n",
       "\n",
       "  network_structure  proportion_inter_site_links  proportion_intra_site_links  \\\n",
       "0        hypothesis                          0.0                        0.001   \n",
       "1        hypothesis                          0.0                        0.001   \n",
       "2        hypothesis                          0.0                        0.001   \n",
       "3        hypothesis                          0.0                        0.001   \n",
       "4        hypothesis                          0.0                        0.001   \n",
       "5        hypothesis                          0.0                        0.001   \n",
       "6        hypothesis                          0.0                        0.001   \n",
       "7        hypothesis                          0.0                        0.001   \n",
       "8        hypothesis                          0.0                        0.001   \n",
       "9        hypothesis                          0.0                        0.001   \n",
       "\n",
       "   proportion_mutual_neighbors  traders_production_site  \\\n",
       "0                            2                        0   \n",
       "1                            2                        0   \n",
       "2                            2                        0   \n",
       "3                            2                        0   \n",
       "4                            2                        0   \n",
       "5                            2                        0   \n",
       "6                            2                        0   \n",
       "7                            2                        0   \n",
       "8                            2                        0   \n",
       "9                            2                        0   \n",
       "\n",
       "   one_production_site_dominance  ...  local_knowledge  maximum_demand  \\\n",
       "0                             10  ...              0.1               1   \n",
       "1                              0  ...              0.1               1   \n",
       "2                              0  ...              0.5               1   \n",
       "3                              0  ...              1.0               1   \n",
       "4                             30  ...              0.5               1   \n",
       "5                             10  ...              0.5               1   \n",
       "6                             10  ...              1.0               1   \n",
       "7                             30  ...              0.1               1   \n",
       "8                             50  ...              1.0               1   \n",
       "9                             30  ...              1.0               1   \n",
       "\n",
       "   circle_link_counter  inter_link_counter  intra_link_counter  \\\n",
       "0                  100                   0                1052   \n",
       "1                  100                   0                1083   \n",
       "2                  100                   0                1083   \n",
       "3                  100                   0                1083   \n",
       "4                  100                   0                1065   \n",
       "5                  100                   0                1052   \n",
       "6                  100                   0                1052   \n",
       "7                  100                   0                1065   \n",
       "8                  100                   0                1075   \n",
       "9                  100                   0                1065   \n",
       "\n",
       "   mutual_link_counter  connect_components_link_counter  average_degree  \\\n",
       "0                 1107                               19           4.556   \n",
       "1                 1070                               10           4.526   \n",
       "2                 1070                               10           4.526   \n",
       "3                 1070                               10           4.526   \n",
       "4                 1090                                7           4.524   \n",
       "5                 1107                               19           4.556   \n",
       "6                 1107                               19           4.556   \n",
       "7                 1090                                7           4.524   \n",
       "8                 1077                                8           4.520   \n",
       "9                 1090                                7           4.524   \n",
       "\n",
       "   clustering_coefficient  average_path_length  \n",
       "0                0.610343             90.26507  \n",
       "1                0.622357             97.69987  \n",
       "2                0.622357             97.69987  \n",
       "3                0.622357             97.69987  \n",
       "4                0.619397             71.27465  \n",
       "5                0.610343             90.26507  \n",
       "6                0.610343             90.26507  \n",
       "7                0.619397             71.27465  \n",
       "8                0.618552             69.61648  \n",
       "9                0.619397             71.27465  \n",
       "\n",
       "[10 rows x 21 columns]"
      ]
     },
     "execution_count": 2,
     "metadata": {},
     "output_type": "execute_result"
    }
   ],
   "source": [
    "#literal_eval is used to parse the site_dict which the data of all traders on every site\n",
    "def literal_converter(val):\n",
    "    return val if val == 'avg_degree stuck' else literal_eval(val)\n",
    "\n",
    "#The data from the different batches are merged into one dataframe\n",
    "df = pd.read_csv('batch6_outputParameterSweep.csv', delimiter = ';', converters={'site_dict': literal_converter})\n",
    "df = df.append(pd.read_csv('batch2_outputParameterSweep.csv', delimiter = ';', converters={'site_dict': literal_converter}))\n",
    "df = df.append(pd.read_csv('batch2_remaining_outputParameterSweep.csv', delimiter = ';', converters={'site_dict': literal_converter}))\n",
    "df = df.append(pd.read_csv('batch3_outputParameterSweep.csv', delimiter = ';', converters={'site_dict': literal_converter}))\n",
    "df = df.append(pd.read_csv('batch4_outputParameterSweep.csv', delimiter = ';', converters={'site_dict': literal_converter}))\n",
    "df = df.append(pd.read_csv('batch5_outputParameterSweep.csv', delimiter = ';', converters={'site_dict': literal_converter}))\n",
    "df = df.append(pd.read_csv('batch6_outputParameterSweep.csv', delimiter = ';', converters={'site_dict': literal_converter}))\n",
    "df = df.append(pd.read_csv('batch7_outputParameterSweep.csv', delimiter = ';', converters={'site_dict': literal_converter}))\n",
    "\n",
    "#Runs that got stuck during the setup are removed\n",
    "df_dropped = df[df.site_dict == 'avg_degree stuck']\n",
    "df = df[df.site_dict != 'avg_degree stuck']\n",
    "\n",
    "print(\"Number of runs stuck on average degree \" + str(len(df_dropped)))\n",
    "\n",
    "\n",
    "\n",
    "df.drop(['site_dict'], axis=1).head(10)"
   ]
  },
  {
   "cell_type": "code",
   "execution_count": 3,
   "metadata": {},
   "outputs": [],
   "source": [
    "#Variables with string and boolean data are converted to integers\n",
    "df['equal_traders_production_site'] *= 1\n",
    "df = df.replace({'traders_distribution': {'uniform': 0, 'exponential': 1}, 'network_structure': {'random': 0, 'hypothesis': 1}})"
   ]
  },
  {
   "cell_type": "markdown",
   "metadata": {},
   "source": [
    "### Calculate distribution widths for all runs"
   ]
  },
  {
   "cell_type": "code",
   "execution_count": 4,
   "metadata": {},
   "outputs": [],
   "source": [
    "def calc_widths(row):\n",
    "    widths = [0,0,0,0]\n",
    "    site_dict = dict(row['site_dict'])\n",
    "    for site_num, volume_list in site_dict.items():\n",
    "        if volume_list[1] > 0:\n",
    "            widths[0] += 1\n",
    "        if volume_list[2] > 0:\n",
    "            widths[1] += 1\n",
    "        if volume_list[3] > 0:\n",
    "            widths[2] += 1\n",
    "        if volume_list[4] > 0:\n",
    "            widths[3] += 1\n",
    "    widths.sort()\n",
    "    widths.reverse()\n",
    "    return widths [0], widths[1], widths[2], widths[3]\n",
    "\n",
    "df['volume_1'], df['volume_2'], df['volume_3'], df['volume_4'] = zip(*df.apply(calc_widths, axis=1))"
   ]
  },
  {
   "cell_type": "markdown",
   "metadata": {},
   "source": [
    "### Calculate range 1 and range 2 for all runs"
   ]
  },
  {
   "cell_type": "code",
   "execution_count": 5,
   "metadata": {
    "scrolled": true
   },
   "outputs": [],
   "source": [
    "df[\"range_1\"] = df.apply(lambda x: x[\"volume_1\"] - x[\"volume_4\"], axis = 1)\n",
    "df[\"range_2\"] = df.apply(lambda x: x[\"volume_1\"] - x[\"volume_2\"], axis = 1)"
   ]
  },
  {
   "cell_type": "markdown",
   "metadata": {},
   "source": [
    "# Calculate Ddiff"
   ]
  },
  {
   "cell_type": "markdown",
   "metadata": {},
   "source": [
    "### Calculate R1a & R2a\n",
    "\n",
    "Tableware data taken from ICRATES data. \n",
    "\n",
    "Period definitions:\n",
    "\n",
    "P1 = 25-1 BC\n",
    "\n",
    "P2 = 1-25 AD\n",
    "\n",
    "P3 = 25-50 AD\n",
    "\n",
    "P4 = 50-75 AD\n",
    "\n",
    "P5 = 75-100 AD\n",
    "\n",
    "P6 = 100-125 AD\n",
    "\n",
    "P7 = 125-150 AD"
   ]
  },
  {
   "cell_type": "code",
   "execution_count": 6,
   "metadata": {},
   "outputs": [
    {
     "name": "stdout",
     "output_type": "stream",
     "text": [
      "R1a = 83.6\n",
      "R2a = 69.8\n"
     ]
    }
   ],
   "source": [
    "#Define all period width tables, sorted from highest to lowest (from ICRATES data)\n",
    "P1 = [91.8, 22.0, 17.6, 8.2]\n",
    "P2 = [85.8, 30.9, 18.5, 15.4]\n",
    "P3 = [72.0, 29.6, 26.4, 24.0]\n",
    "P4 = [64.0, 37.3, 35.3, 22.0]\n",
    "P5 = [60.0, 41.5, 40.7, 20.0]\n",
    "P6 = [45.9, 44.3, 42.6, 28.7]\n",
    "P7 = [49.1, 34.3, 33.3, 31.5]\n",
    "\n",
    "chosen_period = P1\n",
    "\n",
    "#Calculate R1a and R2a\n",
    "R1a = max(chosen_period) - min(chosen_period)\n",
    "print('R1a = ' + str(R1a))\n",
    "\n",
    "R2a = max(chosen_period) - chosen_period[1]\n",
    "print('R2a = ' + str(R2a))"
   ]
  },
  {
   "cell_type": "markdown",
   "metadata": {},
   "source": [
    "# Regression analysis"
   ]
  },
  {
   "cell_type": "code",
   "execution_count": 11,
   "metadata": {},
   "outputs": [],
   "source": [
    "#Caculate the \"Ddiff\" for each run\n",
    "import math\n",
    "df[\"Ddiff\"] = df.apply(lambda x: (math.sqrt((R1a - x[\"range_1\"])**2) * ((R2a - x[\"range_2\"])**2))*0.0001 , axis = 1)"
   ]
  },
  {
   "cell_type": "markdown",
   "metadata": {},
   "source": [
    "The little bit of magic here is just to get the numbers into values that can be looked at. I have taken a square root, since we've squared everything and I also divided by 1000 to make the numbers reasonable. None of this changes anything in terms of the results, it's just easier to compare -0.12 to 0.34 than 1.2e8 etc). We still have the problem that both links variables are expressed in 0.000x numbers while the rest is 10-100. We'll deal with it below."
   ]
  },
  {
   "cell_type": "markdown",
   "metadata": {},
   "source": [
    "# Data visualisation"
   ]
  },
  {
   "cell_type": "code",
   "execution_count": 12,
   "metadata": {},
   "outputs": [
    {
     "data": {
      "text/plain": [
       "<matplotlib.legend.Legend at 0x262176d92b0>"
      ]
     },
     "execution_count": 12,
     "metadata": {},
     "output_type": "execute_result"
    },
    {
     "data": {
      "image/png": "[encoded data removed]",
      "text/plain": [
       "<Figure size 1440x720 with 1 Axes>"
      ]
     },
     "metadata": {},
     "output_type": "display_data"
    }
   ],
   "source": [
    "independent_variables = ['equal_traders_production_site',\n",
    "                        'traders_distribution',\n",
    "                        'network_structure',\n",
    "                        'proportion_inter_site_links',\n",
    "                        'proportion_intra_site_links',\n",
    "                        'traders_production_site',\n",
    "                        'one_production_site_dominance',\n",
    "                        'local_knowledge',\n",
    "                        'maximum_demand']\n",
    "\n",
    "fig = plt.figure(figsize = (20, 10))\n",
    "sns.set_style('whitegrid')\n",
    "\n",
    "scaler=preprocessing.MinMaxScaler(feature_range=(0,1))\n",
    "\n",
    "for i in independent_variables:\n",
    "    df_temp = df.groupby(['{}'.format(i)]).mean().reset_index()\n",
    "    df_temp[\"{}\".format(i)]=scaler.fit_transform(df_temp[[\"{}\".format(i)]])\n",
    "    \n",
    "    plt.plot(i, 'Ddiff', data=df_temp, linestyle='--', marker='o', label='{}'.format(i))\n",
    "    \n",
    "\n",
    "plt.xlabel('Independent variables', fontsize=20)\n",
    "plt.ylabel('Ddiff', fontsize=20)\n",
    "plt.legend(loc='best', fontsize=15)"
   ]
  },
  {
   "cell_type": "markdown",
   "metadata": {},
   "source": [
    "### Regression on a full model"
   ]
  },
  {
   "cell_type": "code",
   "execution_count": 13,
   "metadata": {},
   "outputs": [
    {
     "name": "stdout",
     "output_type": "stream",
     "text": [
      "                            OLS Regression Results                            \n",
      "==============================================================================\n",
      "Dep. Variable:              Ddiff_run   R-squared:                       0.484\n",
      "Model:                            OLS   Adj. R-squared:                  0.484\n",
      "Method:                 Least Squares   F-statistic:                     1628.\n",
      "Date:                Mon, 18 Nov 2019   Prob (F-statistic):               0.00\n",
      "Time:                        18:53:35   Log-Likelihood:                -45516.\n",
      "No. Observations:               12159   AIC:                         9.105e+04\n",
      "Df Residuals:                   12151   BIC:                         9.111e+04\n",
      "Df Model:                           7                                         \n",
      "Covariance Type:            nonrobust                                         \n",
      "=================================================================================================\n",
      "                                    coef    std err          t      P>|t|      [0.025      0.975]\n",
      "-------------------------------------------------------------------------------------------------\n",
      "const                            39.4735      0.314    125.614      0.000      38.858      40.089\n",
      "random_seed                      -0.0379      0.032     -1.173      0.241      -0.101       0.025\n",
      "proportion_inter_site_links   -6871.0268     78.799    -87.197      0.000   -7025.485   -6716.568\n",
      "proportion_intra_site_links     439.0625     77.356      5.676      0.000     287.432     590.693\n",
      "traders_production_site           0.3466      0.012     29.388      0.000       0.323       0.370\n",
      "one_production_site_dominance    -0.2894      0.005    -55.639      0.000      -0.300      -0.279\n",
      "local_knowledge                  -0.1516      0.252     -0.602      0.547      -0.645       0.342\n",
      "maximum_demand                   -0.0258      0.004     -5.936      0.000      -0.034      -0.017\n",
      "==============================================================================\n",
      "Omnibus:                      359.134   Durbin-Watson:                   1.560\n",
      "Prob(Omnibus):                  0.000   Jarque-Bera (JB):              235.913\n",
      "Skew:                          -0.219   Prob(JB):                     5.92e-52\n",
      "Kurtosis:                       2.476   Cond. No.                     2.93e+04\n",
      "==============================================================================\n",
      "\n",
      "Warnings:\n",
      "[1] Standard Errors assume that the covariance matrix of the errors is correctly specified.\n",
      "[2] The condition number is large, 2.93e+04. This might indicate that there are\n",
      "strong multicollinearity or other numerical problems.\n"
     ]
    },
    {
     "name": "stderr",
     "output_type": "stream",
     "text": [
      "H:\\WindowsSoftware\\Anaconda\\lib\\site-packages\\numpy\\core\\fromnumeric.py:2389: FutureWarning: Method .ptp is deprecated and will be removed in a future version. Use numpy.ptp instead.\n",
      "  return ptp(axis=axis, out=out, **kwargs)\n"
     ]
    }
   ],
   "source": [
    "#Multiple regression of Ddiff? and all non-caterogiral/boolean independent variables + random_seed\n",
    "X = df[['random_seed', 'proportion_inter_site_links', 'proportion_intra_site_links', 'traders_production_site', 'one_production_site_dominance', 'local_knowledge', 'maximum_demand']]\n",
    "X = sm.add_constant(X)\n",
    "mreg = sm.OLS(df['Ddiff_run'], X)\n",
    "results = mreg.fit()\n",
    "print(results.summary())"
   ]
  },
  {
   "cell_type": "markdown",
   "metadata": {},
   "source": [
    "### The bulk of predictive power of the model are: 'proportion_inter_site_links' and 'one_production_site_dominance' - pretty much 45%"
   ]
  },
  {
   "cell_type": "code",
   "execution_count": 14,
   "metadata": {},
   "outputs": [
    {
     "name": "stdout",
     "output_type": "stream",
     "text": [
      "                            OLS Regression Results                            \n",
      "==============================================================================\n",
      "Dep. Variable:              Ddiff_run   R-squared:                       0.445\n",
      "Model:                            OLS   Adj. R-squared:                  0.444\n",
      "Method:                 Least Squares   F-statistic:                     4864.\n",
      "Date:                Mon, 18 Nov 2019   Prob (F-statistic):               0.00\n",
      "Time:                        18:53:39   Log-Likelihood:                -45964.\n",
      "No. Observations:               12159   AIC:                         9.193e+04\n",
      "Df Residuals:                   12156   BIC:                         9.196e+04\n",
      "Df Model:                           2                                         \n",
      "Covariance Type:            nonrobust                                         \n",
      "=================================================================================================\n",
      "                                    coef    std err          t      P>|t|      [0.025      0.975]\n",
      "-------------------------------------------------------------------------------------------------\n",
      "const                            40.7997      0.164    248.508      0.000      40.478      41.121\n",
      "proportion_inter_site_links   -6335.7912     79.046    -80.153      0.000   -6490.734   -6180.849\n",
      "one_production_site_dominance    -0.3415      0.005    -67.423      0.000      -0.351      -0.332\n",
      "==============================================================================\n",
      "Omnibus:                      375.772   Durbin-Watson:                   1.478\n",
      "Prob(Omnibus):                  0.000   Jarque-Bera (JB):              227.381\n",
      "Skew:                          -0.192   Prob(JB):                     4.22e-50\n",
      "Kurtosis:                       2.451   Cond. No.                     2.07e+04\n",
      "==============================================================================\n",
      "\n",
      "Warnings:\n",
      "[1] Standard Errors assume that the covariance matrix of the errors is correctly specified.\n",
      "[2] The condition number is large, 2.07e+04. This might indicate that there are\n",
      "strong multicollinearity or other numerical problems.\n"
     ]
    }
   ],
   "source": [
    "#Multiple regression of range_1 and proportion_inter_site_links & one_production_site_dominance\n",
    "X = df[['proportion_inter_site_links','one_production_site_dominance' ]]\n",
    "X = sm.add_constant(X)\n",
    "mreg = sm.OLS(df['Ddiff_run'], X)\n",
    "results = mreg.fit()\n",
    "print(results.summary())"
   ]
  },
  {
   "cell_type": "markdown",
   "metadata": {},
   "source": [
    "### Equalise the coefficient\n",
    "The values of coefficient between proportion_inter_site_links and one_production_site_dominance are very different because the former is 0.0001 - 0.003 whilse the latter is 0 - 50 so if we multiply the former by 1000 we'll be getting the same kind of values. \n",
    "\n"
   ]
  },
  {
   "cell_type": "code",
   "execution_count": 15,
   "metadata": {},
   "outputs": [
    {
     "name": "stdout",
     "output_type": "stream",
     "text": [
      "                            OLS Regression Results                            \n",
      "==============================================================================\n",
      "Dep. Variable:              Ddiff_run   R-squared:                       0.445\n",
      "Model:                            OLS   Adj. R-squared:                  0.444\n",
      "Method:                 Least Squares   F-statistic:                     4864.\n",
      "Date:                Mon, 18 Nov 2019   Prob (F-statistic):               0.00\n",
      "Time:                        18:53:42   Log-Likelihood:                -45964.\n",
      "No. Observations:               12159   AIC:                         9.193e+04\n",
      "Df Residuals:                   12156   BIC:                         9.196e+04\n",
      "Df Model:                           2                                         \n",
      "Covariance Type:            nonrobust                                         \n",
      "=================================================================================================\n",
      "                                    coef    std err          t      P>|t|      [0.025      0.975]\n",
      "-------------------------------------------------------------------------------------------------\n",
      "const                            40.7997      0.164    248.508      0.000      40.478      41.121\n",
      "prop_inter_site_links2           -0.6336      0.008    -80.153      0.000      -0.649      -0.618\n",
      "one_production_site_dominance    -0.3415      0.005    -67.423      0.000      -0.351      -0.332\n",
      "==============================================================================\n",
      "Omnibus:                      375.772   Durbin-Watson:                   1.478\n",
      "Prob(Omnibus):                  0.000   Jarque-Bera (JB):              227.381\n",
      "Skew:                          -0.192   Prob(JB):                     4.22e-50\n",
      "Kurtosis:                       2.451   Cond. No.                         45.2\n",
      "==============================================================================\n",
      "\n",
      "Warnings:\n",
      "[1] Standard Errors assume that the covariance matrix of the errors is correctly specified.\n"
     ]
    }
   ],
   "source": [
    "#Multiple regression of range_1 and proportion_inter_site_links & one_production_site_dominance\n",
    "df['prop_inter_site_links2'] = df['proportion_inter_site_links']*10000\n",
    "X = df[['prop_inter_site_links2','one_production_site_dominance' ]]\n",
    "X = sm.add_constant(X)\n",
    "mreg = sm.OLS(df['Ddiff_run'], X)\n",
    "results = mreg.fit()\n",
    "print(results.summary())"
   ]
  },
  {
   "cell_type": "markdown",
   "metadata": {},
   "source": [
    "### The remaining variables explain only 4% of the ddiff"
   ]
  },
  {
   "cell_type": "code",
   "execution_count": 16,
   "metadata": {},
   "outputs": [
    {
     "name": "stdout",
     "output_type": "stream",
     "text": [
      "                            OLS Regression Results                            \n",
      "==============================================================================\n",
      "Dep. Variable:              Ddiff_run   R-squared:                       0.043\n",
      "Model:                            OLS   Adj. R-squared:                  0.042\n",
      "Method:                 Least Squares   F-statistic:                     180.3\n",
      "Date:                Mon, 18 Nov 2019   Prob (F-statistic):          2.21e-114\n",
      "Time:                        18:53:44   Log-Likelihood:                -49274.\n",
      "No. Observations:               12159   AIC:                         9.856e+04\n",
      "Df Residuals:                   12155   BIC:                         9.859e+04\n",
      "Df Model:                           3                                         \n",
      "Covariance Type:            nonrobust                                         \n",
      "===============================================================================================\n",
      "                                  coef    std err          t      P>|t|      [0.025      0.975]\n",
      "-----------------------------------------------------------------------------------------------\n",
      "const                          25.8288      0.239    107.896      0.000      25.360      26.298\n",
      "maximum_demand                 -0.0258      0.006     -4.359      0.000      -0.037      -0.014\n",
      "traders_production_site         0.3146      0.015     21.686      0.000       0.286       0.343\n",
      "proportion_intra_site_links   837.8382    105.081      7.973      0.000     631.862    1043.814\n",
      "==============================================================================\n",
      "Omnibus:                     2212.550   Durbin-Watson:                   1.372\n",
      "Prob(Omnibus):                  0.000   Jarque-Bera (JB):             1629.389\n",
      "Skew:                          -0.794   Prob(JB):                         0.00\n",
      "Kurtosis:                       2.167   Cond. No.                     2.46e+04\n",
      "==============================================================================\n",
      "\n",
      "Warnings:\n",
      "[1] Standard Errors assume that the covariance matrix of the errors is correctly specified.\n",
      "[2] The condition number is large, 2.46e+04. This might indicate that there are\n",
      "strong multicollinearity or other numerical problems.\n"
     ]
    }
   ],
   "source": [
    "X = df[['maximum_demand','traders_production_site', 'proportion_intra_site_links' ]]\n",
    "X = sm.add_constant(X)\n",
    "mreg = sm.OLS(df['Ddiff_run'], X)\n",
    "results = mreg.fit()\n",
    "print(results.summary())"
   ]
  },
  {
   "cell_type": "markdown",
   "metadata": {},
   "source": [
    "### Individually it works as well. More or less"
   ]
  },
  {
   "cell_type": "code",
   "execution_count": 17,
   "metadata": {},
   "outputs": [
    {
     "name": "stdout",
     "output_type": "stream",
     "text": [
      "                            OLS Regression Results                            \n",
      "==============================================================================\n",
      "Dep. Variable:              Ddiff_run   R-squared:                       0.237\n",
      "Model:                            OLS   Adj. R-squared:                  0.237\n",
      "Method:                 Least Squares   F-statistic:                     3771.\n",
      "Date:                Mon, 18 Nov 2019   Prob (F-statistic):               0.00\n",
      "Time:                        18:53:45   Log-Likelihood:                -47896.\n",
      "No. Observations:               12159   AIC:                         9.580e+04\n",
      "Df Residuals:                   12157   BIC:                         9.581e+04\n",
      "Df Model:                           1                                         \n",
      "Covariance Type:            nonrobust                                         \n",
      "===============================================================================================\n",
      "                                  coef    std err          t      P>|t|      [0.025      0.975]\n",
      "-----------------------------------------------------------------------------------------------\n",
      "const                          34.3925      0.157    219.167      0.000      34.085      34.700\n",
      "proportion_inter_site_links -5641.2985     91.861    -61.411      0.000   -5821.360   -5461.237\n",
      "==============================================================================\n",
      "Omnibus:                      455.766   Durbin-Watson:                   1.262\n",
      "Prob(Omnibus):                  0.000   Jarque-Bera (JB):              497.031\n",
      "Skew:                          -0.484   Prob(JB):                    1.18e-108\n",
      "Kurtosis:                       2.791   Cond. No.                         815.\n",
      "==============================================================================\n",
      "\n",
      "Warnings:\n",
      "[1] Standard Errors assume that the covariance matrix of the errors is correctly specified.\n"
     ]
    }
   ],
   "source": [
    "X = df['proportion_inter_site_links']\n",
    "X = sm.add_constant(X)\n",
    "reg = sm.OLS(df['Ddiff_run'], X)\n",
    "results = reg.fit()\n",
    "print(results.summary())"
   ]
  },
  {
   "cell_type": "code",
   "execution_count": 18,
   "metadata": {},
   "outputs": [
    {
     "name": "stdout",
     "output_type": "stream",
     "text": [
      "                            OLS Regression Results                            \n",
      "==============================================================================\n",
      "Dep. Variable:              Ddiff_run   R-squared:                       0.151\n",
      "Model:                            OLS   Adj. R-squared:                  0.151\n",
      "Method:                 Least Squares   F-statistic:                     2161.\n",
      "Date:                Mon, 18 Nov 2019   Prob (F-statistic):               0.00\n",
      "Time:                        18:53:46   Log-Likelihood:                -48544.\n",
      "No. Observations:               12159   AIC:                         9.709e+04\n",
      "Df Residuals:                   12157   BIC:                         9.711e+04\n",
      "Df Model:                           1                                         \n",
      "Covariance Type:            nonrobust                                         \n",
      "=================================================================================================\n",
      "                                    coef    std err          t      P>|t|      [0.025      0.975]\n",
      "-------------------------------------------------------------------------------------------------\n",
      "const                            32.4066      0.156    207.298      0.000      32.100      32.713\n",
      "one_production_site_dominance    -0.2886      0.006    -46.485      0.000      -0.301      -0.276\n",
      "==============================================================================\n",
      "Omnibus:                     1386.600   Durbin-Watson:                   1.362\n",
      "Prob(Omnibus):                  0.000   Jarque-Bera (JB):              756.397\n",
      "Skew:                          -0.466   Prob(JB):                    5.63e-165\n",
      "Kurtosis:                       2.209   Cond. No.                         33.1\n",
      "==============================================================================\n",
      "\n",
      "Warnings:\n",
      "[1] Standard Errors assume that the covariance matrix of the errors is correctly specified.\n"
     ]
    }
   ],
   "source": [
    "X = df['one_production_site_dominance']\n",
    "X = sm.add_constant(X)\n",
    "reg = sm.OLS(df['Ddiff_run'], X)\n",
    "results = reg.fit()\n",
    "print(results.summary())"
   ]
  },
  {
   "cell_type": "markdown",
   "metadata": {},
   "source": [
    "### Random seed is insignificant"
   ]
  },
  {
   "cell_type": "code",
   "execution_count": 19,
   "metadata": {},
   "outputs": [
    {
     "name": "stdout",
     "output_type": "stream",
     "text": [
      "                            OLS Regression Results                            \n",
      "==============================================================================\n",
      "Dep. Variable:              Ddiff_run   R-squared:                       0.000\n",
      "Model:                            OLS   Adj. R-squared:                  0.000\n",
      "Method:                 Least Squares   F-statistic:                     1.198\n",
      "Date:                Mon, 18 Nov 2019   Prob (F-statistic):              0.274\n",
      "Time:                        18:53:48   Log-Likelihood:                -49538.\n",
      "No. Observations:               12159   AIC:                         9.908e+04\n",
      "Df Residuals:                   12157   BIC:                         9.909e+04\n",
      "Df Model:                           1                                         \n",
      "Covariance Type:            nonrobust                                         \n",
      "===============================================================================\n",
      "                  coef    std err          t      P>|t|      [0.025      0.975]\n",
      "-------------------------------------------------------------------------------\n",
      "const          27.9601      0.279    100.226      0.000      27.413      28.507\n",
      "random_seed    -0.0492      0.045     -1.095      0.274      -0.137       0.039\n",
      "==============================================================================\n",
      "Omnibus:                     1987.917   Durbin-Watson:                   1.307\n",
      "Prob(Omnibus):                  0.000   Jarque-Bera (JB):             2023.168\n",
      "Skew:                          -0.933   Prob(JB):                         0.00\n",
      "Kurtosis:                       2.284   Cond. No.                         13.7\n",
      "==============================================================================\n",
      "\n",
      "Warnings:\n",
      "[1] Standard Errors assume that the covariance matrix of the errors is correctly specified.\n"
     ]
    }
   ],
   "source": [
    "X = df['random_seed']\n",
    "X = sm.add_constant(X)\n",
    "reg = sm.OLS(df['Ddiff_run'], X)\n",
    "results = reg.fit()\n",
    "print(results.summary())"
   ]
  },
  {
   "cell_type": "markdown",
   "metadata": {},
   "source": [
    "## Range 1"
   ]
  },
  {
   "cell_type": "code",
   "execution_count": null,
   "metadata": {},
   "outputs": [],
   "source": [
    "for i in chosen_variable_names:\n",
    "    fig, axes = plt.subplots(figsize = (20, 10))\n",
    "    axes.set_ylim([0,100])\n",
    "    ax = sns.violinplot(x=i, y = 'range_1', data=df)\n",
    "    \n",
    "    "
   ]
  },
  {
   "cell_type": "markdown",
   "metadata": {},
   "source": [
    "## Range 2"
   ]
  },
  {
   "cell_type": "code",
   "execution_count": null,
   "metadata": {},
   "outputs": [],
   "source": [
    "for i in chosen_variable_names:\n",
    "    fig, axes = plt.subplots(figsize = (20, 10))\n",
    "    axes.set_ylim([0,50])\n",
    "    ax = sns.violinplot(x=i, y = 'range_2', data=df)"
   ]
  },
  {
   "cell_type": "markdown",
   "metadata": {},
   "source": [
    "## Max closeness vs absence/presence max product"
   ]
  },
  {
   "cell_type": "code",
   "execution_count": null,
   "metadata": {},
   "outputs": [],
   "source": [
    "data_X = []\n",
    "\n",
    "max_closeness_Y = []\n",
    "max_betweenness_Y = []\n",
    "\n",
    "for row, index in df.iterrows():\n",
    "    \n",
    "    widths = {'A': 0,\n",
    "              'B': 0,\n",
    "              'C': 0,\n",
    "              'D': 0\n",
    "             }\n",
    "    \n",
    "    site_dict = dict(index['site_dict'])\n",
    "    \n",
    "    for site_num, site_data in site_dict.items():\n",
    "        if site_data[1] > 0:\n",
    "            widths['A'] += 1\n",
    "        if site_data[2] > 0:\n",
    "            widths['B'] += 1\n",
    "        if site_data[3] > 0:\n",
    "            widths['C'] += 1\n",
    "        if site_data[4] > 0:\n",
    "            widths['D'] += 1\n",
    "            \n",
    "    ware_1 = max(widths, key=widths.get)\n",
    "    \n",
    "    for site_num, site_data in site_dict.items():\n",
    "        closeness_list = []\n",
    "        betweenness_list = []\n",
    "        \n",
    "        for i in site_data[5]:\n",
    "            closeness_list.append(i[0])\n",
    "            betweenness_list.append(i[1])\n",
    "        \n",
    "        if ware_1 == 'A' and site_data[1] > 0:\n",
    "            data_X.append(1)\n",
    "            max_closeness_Y.append(max(closeness_list))\n",
    "            max_betweenness_Y.append(max(betweenness_list))\n",
    "        elif ware_1 == 'B' and site_data[2] > 0:\n",
    "            data_X.append(1)\n",
    "            max_closeness_Y.append(max(closeness_list))\n",
    "            max_betweenness_Y.append(max(betweenness_list))\n",
    "        elif ware_1 == 'C' and site_data[3] > 0:\n",
    "            data_X.append(1)\n",
    "            max_closeness_Y.append(max(closeness_list))\n",
    "            max_betweenness_Y.append(max(betweenness_list))\n",
    "        elif ware_1 == 'D' and site_data[4] > 0:\n",
    "            data_X.append(1)\n",
    "            max_closeness_Y.append(max(closeness_list))\n",
    "            max_betweenness_Y.append(max(betweenness_list))\n",
    "        else:\n",
    "            data_X.append(0)\n",
    "            max_closeness_Y.append(max(closeness_list))\n",
    "            max_betweenness_Y.append(max(betweenness_list))\n",
    "\n",
    "                \n",
    "fig, axes = plt.subplots(figsize = (20, 10))\n",
    "ax = sns.violinplot(x = data_X, y = max_closeness_Y) \n",
    "plt.xlabel('Absence (0) or presence (1) of the most widely distributed product per site', fontsize=20)\n",
    "plt.ylabel('max_closeness per site', fontsize=20)"
   ]
  },
  {
   "cell_type": "markdown",
   "metadata": {},
   "source": [
    "## Max betweenness vs absence/presence max product"
   ]
  },
  {
   "cell_type": "code",
   "execution_count": null,
   "metadata": {},
   "outputs": [],
   "source": [
    "fig, axes = plt.subplots(figsize = (20, 10))\n",
    "ax = sns.violinplot(x = data_X, y = max_betweenness_Y) \n",
    "plt.xlabel('Absence (0) or presence (1) of the most widely distributed product per site', fontsize=20)\n",
    "plt.ylabel('max_betweenness per site', fontsize=20)"
   ]
  },
  {
   "cell_type": "markdown",
   "metadata": {},
   "source": [
    "## Max closeness per production center vs width of that type"
   ]
  },
  {
   "cell_type": "code",
   "execution_count": null,
   "metadata": {},
   "outputs": [],
   "source": [
    "data_X = []\n",
    "data_Y_closeness = []\n",
    "data_Y_betweenness = []\n",
    "\n",
    "for row, index in df.iterrows():\n",
    "    widths = {'A': 0,\n",
    "              'B': 0,\n",
    "              'C': 0,\n",
    "              'D': 0\n",
    "             }\n",
    "    site_dict = dict(index['site_dict'])\n",
    "    \n",
    "    for site_num, site_data in site_dict.items():\n",
    "        if site_data[1] > 0:\n",
    "            widths['A'] += 1\n",
    "        if site_data[2] > 0:\n",
    "            widths['B'] += 1\n",
    "        if site_data[3] > 0:\n",
    "            widths['C'] += 1\n",
    "        if site_data[4] > 0:\n",
    "            widths['D'] += 1\n",
    "    \n",
    "    widths = sorted(widths.items(), key=lambda x:x[1], reverse=True)\n",
    "    width_num = 1    \n",
    "    for i in widths:\n",
    "        for site_num, site_data in site_dict.items():\n",
    "            if site_data[0] == i[0]:\n",
    "                closeness_list = []\n",
    "                betweenness_list = []\n",
    "                \n",
    "                for cb in site_data[5]:\n",
    "                    closeness_list.append(cb[0])\n",
    "                    betweenness_list.append(cb[1])\n",
    "                \n",
    "                data_Y_closeness.append(max(closeness_list))\n",
    "                data_Y_betweenness.append(max(betweenness_list))\n",
    "                data_X.append(i[1])\n",
    "                \n",
    "                \n",
    "fig, axes = plt.subplots(figsize = (20, 10))\n",
    "ax = plt.scatter(data_X, data_Y_betweenness) \n",
    "plt.xlabel('Distribution width of ware', fontsize=20)\n",
    "plt.ylabel('max_betweenness of production site', fontsize=20)\n",
    "                "
   ]
  },
  {
   "cell_type": "code",
   "execution_count": null,
   "metadata": {},
   "outputs": [],
   "source": [
    "                \n",
    "fig, axes = plt.subplots(figsize = (20, 10))\n",
    "ax = plt.scatter(data_X, data_Y_closeness) \n",
    "plt.xlabel('Distribution width of ware', fontsize=20)\n",
    "plt.ylabel('max_closeness of production site', fontsize=20)"
   ]
  },
  {
   "cell_type": "markdown",
   "metadata": {},
   "source": [
    "## proportion_inter_site_links violin plots split by values"
   ]
  },
  {
   "cell_type": "code",
   "execution_count": null,
   "metadata": {},
   "outputs": [],
   "source": [
    "fig, axes = plt.subplots(figsize = (20, 10))\n",
    "axes.set_ylim([0,20])\n",
    "ax = sns.violinplot(x='proportion_inter_site_links', y = 'range_1', data=df.loc[df['proportion_inter_site_links'] <= 0.0001])"
   ]
  },
  {
   "cell_type": "code",
   "execution_count": null,
   "metadata": {},
   "outputs": [],
   "source": [
    "fig, axes = plt.subplots(figsize = (20, 10))\n",
    "axes.set_ylim([0,100])\n",
    "ax = sns.violinplot(x='proportion_inter_site_links', y = 'range_1', data=df.loc[df['proportion_inter_site_links'] > 0.0001])"
   ]
  },
  {
   "cell_type": "code",
   "execution_count": null,
   "metadata": {},
   "outputs": [],
   "source": [
    "fig, axes = plt.subplots(figsize = (20, 10))\n",
    "axes.set_ylim([0,20])\n",
    "ax = sns.violinplot(x='proportion_inter_site_links', y = 'range_2', data=df.loc[df['proportion_inter_site_links'] <= 0.0001])"
   ]
  },
  {
   "cell_type": "code",
   "execution_count": null,
   "metadata": {
    "scrolled": false
   },
   "outputs": [],
   "source": [
    "fig, axes = plt.subplots(figsize = (20, 10))\n",
    "axes.set_ylim([0,100])\n",
    "ax = sns.violinplot(x='proportion_inter_site_links', y = 'range_2', data=df.loc[df['proportion_inter_site_links'] > 0.0001])"
   ]
  },
  {
   "cell_type": "markdown",
   "metadata": {},
   "source": [
    "## Line graphs of significant variables"
   ]
  },
  {
   "cell_type": "code",
   "execution_count": null,
   "metadata": {
    "scrolled": true
   },
   "outputs": [],
   "source": [
    "fig = plt.figure(figsize = (15, 8))\n",
    "sns.set_style(\"whitegrid\")\n",
    "\n",
    "\n",
    "df['one_production_site_dominance2'] = df['one_production_site_dominance']\n",
    "df_grp_inter = df.groupby(['proportion_inter_site_links']).mean()\n",
    "df_grp_dom = df.groupby(['one_production_site_dominance2']).mean()\n",
    "\n",
    "plt.plot('prop_inter_site_links2', 'Ddiff_run',  data=df_grp_inter, linestyle='--', marker='o', label='proportion_inter_site_links')\n",
    "plt.plot('one_production_site_dominance', 'Ddiff_run',  data=df_grp_dom, linestyle='--', marker='o', label='one_production_site_dominance')\n",
    "\n",
    "plt.xlabel('Significant variables', fontsize=20)\n",
    "plt.ylabel('Ddiff', fontsize=20)\n",
    "plt.legend(loc='best', fontsize=15)"
   ]
  },
  {
   "cell_type": "markdown",
   "metadata": {},
   "source": [
    "## Reg plot"
   ]
  },
  {
   "cell_type": "code",
   "execution_count": null,
   "metadata": {},
   "outputs": [],
   "source": [
    "y = 'proportion_inter_site_links'\n",
    "\n",
    "g = sns.jointplot(y=y, x='Ddiff_run', data=df, kind=\"hex\", height=8)\n",
    "g.set_axis_labels('Ddiff_run', y, fontsize=20)\n",
    "#g.ax_joint.set_xscale('log')"
   ]
  },
  {
   "cell_type": "code",
   "execution_count": null,
   "metadata": {},
   "outputs": [],
   "source": [
    "y = 'proportion_inter_site_links'\n",
    "\n",
    "plt.figure(figsize=(15, 8))\n",
    "plt.rcParams[\"axes.labelsize\"] = 20\n",
    "\n",
    "g = sns.regplot(y=y, x='Ddiff_run', data=df, line_kws = {'color':'red'})\n",
    "#g.set_xscale('log')"
   ]
  },
  {
   "cell_type": "markdown",
   "metadata": {},
   "source": [
    "# TESTS"
   ]
  },
  {
   "cell_type": "code",
   "execution_count": null,
   "metadata": {
    "scrolled": true
   },
   "outputs": [],
   "source": [
    "#Group the dataframe by each value of the independent variables (ie every experiment) and give them an experiment number\n",
    "df['experiment_number']=df.groupby(['equal_traders_production_site', 'traders_distribution', 'network_structure', 'proportion_inter_site_links', 'proportion_intra_site_links', 'traders_production_site', 'one_production_site_dominance', 'local_knowledge', 'maximum_demand']).ngroup().add(1)\n",
    "df.drop(['volume_1', 'volume_2', 'volume_3', 'volume_4', 'site_dict', 'circle_link_counter', 'inter_link_counter', 'intra_link_counter', 'mutual_link_counter', 'connect_components_link_counter', 'average_degree', 'clustering_coefficient', 'average_path_length', 'range_1', 'range_2'], axis=1).sort_values(by=['experiment_number', 'random_seed']).head(30)\n"
   ]
  },
  {
   "cell_type": "code",
   "execution_count": null,
   "metadata": {
    "scrolled": false
   },
   "outputs": [],
   "source": [
    "pairplots = sns.pairplot(data=df, height=5, kind='reg', plot_kws={'line_kws':{'color':'red'}}, y_vars=['proportion_inter_site_links'], x_vars=['Ddiff_run'])"
   ]
  },
  {
   "cell_type": "code",
   "execution_count": null,
   "metadata": {},
   "outputs": [],
   "source": [
    "#New dataframe, group by experiment number and take the mean (for pairplots?)\n",
    "df_experiment = df.groupby('experiment_number').mean()"
   ]
  },
  {
   "cell_type": "code",
   "execution_count": null,
   "metadata": {},
   "outputs": [],
   "source": [
    "pairplots = sns.pairplot(data=df, height=10, kind='scatter', hue='traders_production_site', palette=\"hls\", y_vars=['proportion_inter_site_links'], x_vars=['Ddiff_run'])"
   ]
  },
  {
   "cell_type": "code",
   "execution_count": null,
   "metadata": {},
   "outputs": [],
   "source": [
    "fig = plt.figure(figsize=(16, 12))\n",
    "ax = fig.add_subplot(111, projection='3d')\n",
    "\n",
    "xs = df_experiment['proportion_inter_site_links']\n",
    "ys = df_experiment['proportion_intra_site_links']\n",
    "zs = df_experiment['Ddiff_run']\n",
    "ax.scatter(xs, ys, zs, s=50, alpha=0.6, edgecolors='w')\n",
    "\n",
    "ax.set_xlabel('proportion_inter_site_links')\n",
    "ax.set_ylabel('proportion_intra_site_links')\n",
    "ax.set_zlabel('Ddiff_run')\n",
    "\n",
    "plt.show()"
   ]
  },
  {
   "cell_type": "code",
   "execution_count": null,
   "metadata": {},
   "outputs": [],
   "source": [
    "plt.scatter(x = df_experiment['proportion_inter_site_links'], \n",
    "            y = df_experiment['Ddiff_run'], \n",
    "            s = df_experiment['proportion_intra_site_links']*25000,\n",
    "            alpha=0.4, \n",
    "            edgecolors='w')\n",
    "\n",
    "\n",
    "\n",
    "plt.xlabel('proportion_inter_site_links')\n",
    "plt.ylabel('proportion_intra_site_links')\n",
    "plt.title('Ddiff_run', y=1.05)"
   ]
  },
  {
   "cell_type": "code",
   "execution_count": null,
   "metadata": {},
   "outputs": [],
   "source": []
  }
 ],
 "metadata": {
  "kernelspec": {
   "display_name": "Python 3",
   "language": "python",
   "name": "python3"
  },
  "language_info": {
   "codemirror_mode": {
    "name": "ipython",
    "version": 3
   },
   "file_extension": ".py",
   "mimetype": "text/x-python",
   "name": "python",
   "nbconvert_exporter": "python",
   "pygments_lexer": "ipython3",
   "version": "3.7.3"
  }
 },
 "nbformat": 4,
 "nbformat_minor": 2
}
